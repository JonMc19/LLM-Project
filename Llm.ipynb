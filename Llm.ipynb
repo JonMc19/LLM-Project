{
 "cells": [
  {
   "cell_type": "code",
   "execution_count": 7,
   "metadata": {},
   "outputs": [],
   "source": [
    "from openai import OpenAI\n",
    "import requests\n",
    "import os\n",
    "from dotenv import load_dotenv"
   ]
  },
  {
   "cell_type": "code",
   "execution_count": 8,
   "metadata": {},
   "outputs": [
    {
     "name": "stdout",
     "output_type": "stream",
     "text": [
      "Loaded key: sk-or-v1-2af9cb\n"
     ]
    }
   ],
   "source": [
    "#1. Set up the OPENROUTER client with the base URL and API key\n",
    "\n",
    "# Reload .env (override any old values)\n",
    "load_dotenv(override=True)\n",
    "\n",
    "# Debug: print first few chars to confirm it's loading\n",
    "print(\"Loaded key:\", os.getenv(\"OPENROUTER_API_KEY\")[:15])\n",
    "\n",
    "client = OpenAI(\n",
    "    base_url=\"https://openrouter.ai/api/v1\",\n",
    "    api_key=os.getenv(\"OPENROUTER_API_KEY\"),\n",
    ")"
   ]
  },
  {
   "cell_type": "code",
   "execution_count": 10,
   "metadata": {},
   "outputs": [
    {
     "name": "stdout",
     "output_type": "stream",
     "text": [
      "API key: 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\n"
     ]
    }
   ],
   "source": [
    "print(\"API key:\", os.getenv(\"OPENROUTER_API_KEY\"))  # <-- debug"
   ]
  },
  {
   "cell_type": "code",
   "execution_count": 11,
   "metadata": {},
   "outputs": [],
   "source": [
    "#2.  Define a function to call the chat model with customizable parameters\n",
    "\n",
    "def get_completion(\n",
    "    messages,\n",
    "    model=\"gpt-4o\",\n",
    "    temperature=0.7,\n",
    "    max_tokens=256\n",
    "):\n",
    "    response = client.chat.completions.create(\n",
    "        model=model,\n",
    "        messages=messages,\n",
    "        temperature=temperature,\n",
    "        max_tokens=max_tokens,\n",
    "    )\n",
    "    return response.choices[0].message.content\n"
   ]
  },
  {
   "cell_type": "code",
   "execution_count": 12,
   "metadata": {},
   "outputs": [
    {
     "name": "stdout",
     "output_type": "stream",
     "text": [
      "--- Temperature: 0.0 ---\n",
      "The future of artificial intelligence (AI) is poised to be transformative across various sectors, driven by advancements in technology and increasing integration into daily life. Here are some key aspects to consider:\n",
      "\n",
      "1. **Enhanced Automation**: AI will continue to automate routine and complex tasks, improving efficiency and productivity in industries such as manufacturing, logistics, and customer service.\n",
      "\n",
      "2. **Healthcare Innovations**: AI is expected to revolutionize healthcare through improved diagnostics, personalized medicine, and robotic surgery. AI algorithms can analyze medical data to assist in early disease detection and treatment planning.\n",
      "\n",
      "3. **Autonomous Systems**: The development of autonomous vehicles, drones, and robots will advance, potentially reshaping transportation, delivery services, and even urban planning.\n",
      "\n",
      "4. **Natural Language\n",
      "\n",
      "--- Temperature: 0.5 ---\n",
      "The future of artificial intelligence (AI) is poised to bring transformative changes across various sectors, driven by advancements in machine learning, natural language processing, robotics, and other AI technologies. Here are some key trends and potential developments:\n",
      "\n",
      "1. **Increased Automation**: AI will continue to automate routine and repetitive tasks, leading to greater efficiency and productivity in industries such as manufacturing, logistics, and customer service.\n",
      "\n",
      "2. **Enhanced Personalization**: AI will enable more personalized experiences in areas like healthcare, education, and retail, tailoring services and recommendations to individual needs and preferences.\n",
      "\n",
      "3. **Improved Decision-Making**: AI systems will assist in data analysis and decision-making, providing insights and predictions that can help businesses and governments make informed choices.\n",
      "\n",
      "\n",
      "\n",
      "--- Temperature: 0.9 ---\n",
      "The future of artificial intelligence (AI) is expected to be marked by significant advancements and increased integration into various aspects of daily life and industry. Key developments in the future of AI may include:\n",
      "\n",
      "1. **Improved Machine Learning and Deep Learning:** AI systems will continue to become more sophisticated, with improved algorithms and models that allow them to learn more efficiently from data. Advances in neural networks and other machine learning techniques will enable AI to perform more complex tasks and make more accurate predictions.\n",
      "\n",
      "2. **Natural Language Processing (NLP):** NLP will improve, making AI systems better at understanding and interacting with human language. This will enhance the capabilities of virtual assistants and chatbots, making them more intuitive and useful in customer service and other applications.\n",
      "\n",
      "3.\n",
      "\n"
     ]
    }
   ],
   "source": [
    "#3. Experiment with different parameters and inputs\n",
    "\n",
    "# Define system and user messages\n",
    "system_prompt = (\n",
    "    \"You are a helpful assistant. \"\n",
    "    \"Answer clearly and concisely.\"\n",
    ")\n",
    "\n",
    "user_prompt = \"Explain the future of artificial intelligence.\"\n",
    "\n",
    "messages = [\n",
    "    {\"role\": \"system\", \"content\": system_prompt},\n",
    "    {\"role\": \"user\", \"content\": user_prompt}\n",
    "]\n",
    "\n",
    "# Try different temperatures\n",
    "for temp in [0.0, 0.5, 0.9]:\n",
    "    print(f\"--- Temperature: {temp} ---\")\n",
    "    output = get_completion(messages, temperature=temp, max_tokens=150)\n",
    "    print(output)\n",
    "    print()"
   ]
  }
 ],
 "metadata": {
  "kernelspec": {
   "display_name": "base",
   "language": "python",
   "name": "python3"
  },
  "language_info": {
   "codemirror_mode": {
    "name": "ipython",
    "version": 3
   },
   "file_extension": ".py",
   "mimetype": "text/x-python",
   "name": "python",
   "nbconvert_exporter": "python",
   "pygments_lexer": "ipython3",
   "version": "3.12.7"
  }
 },
 "nbformat": 4,
 "nbformat_minor": 2
}
